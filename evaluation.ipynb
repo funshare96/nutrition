{
 "cells": [
  {
   "cell_type": "markdown",
   "metadata": {},
   "source": [
    "# Evaluation"
   ]
  },
  {
   "cell_type": "code",
   "execution_count": 1,
   "metadata": {},
   "outputs": [
    {
     "name": "stdout",
     "output_type": "stream",
     "text": [
      "/home/serge/Documents/food/Food_project\n"
     ]
    }
   ],
   "source": [
    "cd ~/Documents/food/Food_project/"
   ]
  },
  {
   "cell_type": "code",
   "execution_count": 2,
   "metadata": {},
   "outputs": [
    {
     "name": "stdout",
     "output_type": "stream",
     "text": [
      "1.13.1\n"
     ]
    }
   ],
   "source": [
    "from __future__ import absolute_import, division, print_function\n",
    "\n",
    "# TensorFlow and tf.keras\n",
    "import tensorflow as tf\n",
    "from tensorflow import keras\n",
    "\n",
    "# Helper libraries\n",
    "import numpy as np\n",
    "import matplotlib.pyplot as plt\n",
    "import os\n",
    "import pandas as pd\n",
    "from sklearn.metrics import roc_auc_score,confusion_matrix\n",
    "from tqdm import tqdm\n",
    "\n",
    "print(tf.__version__)"
   ]
  },
  {
   "cell_type": "code",
   "execution_count": 3,
   "metadata": {},
   "outputs": [
    {
     "name": "stdout",
     "output_type": "stream",
     "text": [
      "env: CUDA_VISIBLE_DEVICES=0,1\n"
     ]
    },
    {
     "name": "stderr",
     "output_type": "stream",
     "text": [
      "Using TensorFlow backend.\n"
     ]
    }
   ],
   "source": [
    "from keras.backend.tensorflow_backend import set_session\n",
    "import tensorflow as tf\n",
    "%env CUDA_VISIBLE_DEVICES=0,1\n",
    "tf.reset_default_graph()\n",
    "config = tf.ConfigProto()\n",
    "config.gpu_options.allow_growth = True  # dynamically grow the memory used on the GPU\n",
    "config.log_device_placement = True  # to log device placement (on which device the operation ran)\n",
    "\n",
    "\n",
    "sess = tf.Session(config=config)\n",
    "\n",
    "set_session(sess)\n",
    "tf.random.set_random_seed(123)\n",
    "np.random.seed(123)"
   ]
  },
  {
   "cell_type": "code",
   "execution_count": 4,
   "metadata": {},
   "outputs": [],
   "source": [
    "im_directory = \"./Food_photos_copy\"\n",
    "fine_to_coarse = pd.read_csv(\"fine_to_coarse.csv\",encoding = \"utf-8\")\n",
    "coarse_labels = fine_to_coarse[\"Coarse names\"]\n",
    "coarse_labels = list(coarse_labels.to_numpy())\n",
    "\n",
    "data = pd.read_pickle(\"./data.pkl\")"
   ]
  },
  {
   "cell_type": "code",
   "execution_count": 5,
   "metadata": {},
   "outputs": [],
   "source": [
    "# split dataset into train & val\n",
    "from sklearn.model_selection import train_test_split\n",
    "train, test = train_test_split(data, test_size=0.15,random_state=123)"
   ]
  },
  {
   "cell_type": "code",
   "execution_count": 6,
   "metadata": {},
   "outputs": [
    {
     "name": "stdout",
     "output_type": "stream",
     "text": [
      "Found 5250 images belonging to 22 classes.\n",
      "Found 1312 images belonging to 22 classes.\n",
      "Found 1159 images belonging to 22 classes.\n"
     ]
    }
   ],
   "source": [
    "from keras.preprocessing.image import ImageDataGenerator\n",
    "\n",
    "train_datagen = ImageDataGenerator(rescale=1./255,\n",
    "                                  rotation_range=20, \n",
    "                                   zoom_range=[1.1,1.6],\n",
    "                                   width_shift_range=0.2, \n",
    "                                   height_shift_range=0.2,\n",
    "                                  horizontal_flip=True,\n",
    "                                  vertical_flip = True,\n",
    "                                  validation_split=0.20)\n",
    "test_datagen = ImageDataGenerator(rescale=1./255)\n",
    "\n",
    "train_generator = train_datagen.flow_from_dataframe(train, directory=im_directory, x_col='name', y_col='coarse labels',subset=\"training\", target_size=(224, 224), color_mode='rgb', classes=coarse_labels, class_mode='categorical', batch_size=32, shuffle=True, seed=123, save_to_dir=None, save_prefix='', save_format='png', interpolation='nearest', drop_duplicates=True)\n",
    "val_generator = train_datagen.flow_from_dataframe(train, directory=im_directory, x_col='name', y_col='coarse labels',subset=\"validation\", target_size=(224, 224), color_mode='rgb', classes=coarse_labels, class_mode='categorical', batch_size=1, shuffle=False, seed=123, save_to_dir=None, save_prefix='', save_format='png', interpolation='nearest', drop_duplicates=True)\n",
    "test_generator = test_datagen.flow_from_dataframe(test, directory=im_directory, x_col='name', y_col='coarse labels', target_size=(224, 224), color_mode='rgb', classes=coarse_labels, class_mode='categorical', batch_size=1, shuffle=False, seed=123, save_to_dir=None, save_prefix='', save_format='png', subset=None, interpolation='nearest', drop_duplicates=True)"
   ]
  },
  {
   "cell_type": "code",
   "execution_count": 7,
   "metadata": {},
   "outputs": [
    {
     "name": "stdout",
     "output_type": "stream",
     "text": [
      "WARNING:tensorflow:From /home/serge/tensorflow/lib/python3.5/site-packages/tensorflow/python/framework/op_def_library.py:263: colocate_with (from tensorflow.python.framework.ops) is deprecated and will be removed in a future version.\n",
      "Instructions for updating:\n",
      "Colocations handled automatically by placer.\n"
     ]
    }
   ],
   "source": [
    "from keras.models import model_from_json\n",
    "name = \"mobilenet_dense\"\n",
    "# Model reconstruction from JSON file\n",
    "with open('models/'+name+'_architecture.json', 'r') as f:\n",
    "    model_best = model_from_json(f.read())\n",
    "\n",
    "# Load best weights into the new model\n",
    "model_best.load_weights('models/'+name+'_weights.hdf5')"
   ]
  },
  {
   "cell_type": "code",
   "execution_count": 8,
   "metadata": {},
   "outputs": [
    {
     "name": "stderr",
     "output_type": "stream",
     "text": [
      "100%|██████████| 165/165 [01:46<00:00,  1.55it/s]\n"
     ]
    }
   ],
   "source": [
    "train_generator.reset()\n",
    "batches = len(train_generator)\n",
    "batch_size = 32\n",
    "\n",
    "train_pred = np.zeros((train_generator.n,22))\n",
    "train_true = np.zeros((train_generator.n,22))\n",
    "\n",
    "for batch in tqdm(range(batches)):\n",
    "    x, y = next(train_generator)\n",
    "    train_pred[batch * batch_size : min(train_generator.n,(batch+1) * batch_size)] = np.asarray(model_best.predict(x))\n",
    "    train_true[batch * batch_size : min(train_generator.n,(batch+1) * batch_size)] = y"
   ]
  },
  {
   "cell_type": "code",
   "execution_count": 9,
   "metadata": {},
   "outputs": [
    {
     "name": "stderr",
     "output_type": "stream",
     "text": [
      "100%|██████████| 22/22 [01:39<00:00,  4.43s/it]\n"
     ]
    }
   ],
   "source": [
    "from sklearn.metrics import accuracy_score\n",
    "from sklearn.metrics import balanced_accuracy_score\n",
    "from sklearn.metrics import roc_curve\n",
    "\n",
    "def max_accuracy(y_true,probs):\n",
    "    fpr, tpr, thresholds = roc_curve(y_true, probs)\n",
    "    accuracy_scores = []\n",
    "    for thresh in thresholds:\n",
    "        acc = balanced_accuracy_score(y_true,[1 if m > thresh else 0 for m in probs])\n",
    "#         acc = accuracy_score(y_true,[1 if m > thresh else 0 for m in probs])\n",
    "        accuracy_scores.append(acc)\n",
    "    accuracies = np.array(accuracy_scores)\n",
    "    max_acc = accuracies.max() \n",
    "    max_acc_thresh =  thresholds[accuracies.argmax()]\n",
    "    return max_acc,max_acc_thresh\n",
    "\n",
    "threshs = []\n",
    "for i in tqdm(range(22)):\n",
    "    y_true = train_true[:,i]\n",
    "    y_score = train_pred[:,i]\n",
    "    max_acc,max_acc_thresh = max_accuracy(y_true,y_score)\n",
    "    threshs.append(max_acc_thresh)"
   ]
  },
  {
   "cell_type": "code",
   "execution_count": 10,
   "metadata": {},
   "outputs": [],
   "source": [
    "from sklearn.metrics import roc_curve\n",
    "\n",
    "def per_class_metrics(labels,preds,threshs):\n",
    "    accs = []\n",
    "    aucs = []\n",
    "    sensitivities = []\n",
    "    specificities = []\n",
    "    rocs = []\n",
    "    for i in range(22):\n",
    "        y_true = labels[:,i]\n",
    "        y_score = preds[:,i]\n",
    "        pred_bool = y_score>threshs[i]\n",
    "#         pred_bool = y_score>0.5\n",
    "        tn, fp, fn, tp = confusion_matrix(y_true, pred_bool).ravel()\n",
    "        specificity = tn / (tn+fp)\n",
    "        sensitivity = tp/(tp+fn)\n",
    "        acc = np.mean(pred_bool == y_true)\n",
    "        roc = roc_curve(y_true,y_score)\n",
    "        \n",
    "        accs.append(acc)\n",
    "        aucs.append(roc_auc_score(y_true,y_score))\n",
    "        rocs.append(roc)\n",
    "        specificities.append(specificity)\n",
    "        sensitivities.append(sensitivity)\n",
    "    return accs,aucs,sensitivities,specificities,rocs"
   ]
  },
  {
   "cell_type": "code",
   "execution_count": 11,
   "metadata": {},
   "outputs": [],
   "source": [
    "def get_labels_and_preds(model,generator):\n",
    "    generator.reset()\n",
    "    preds = model.predict_generator(generator,steps=len(generator))\n",
    "    labels = [[True if i in row else False for i in range(22)] for row in generator.classes]\n",
    "    labels = np.array(labels)\n",
    "    return labels,preds\n",
    "\n",
    "val_true,val_pred = get_labels_and_preds(model_best,val_generator)\n",
    "test_true,test_pred = get_labels_and_preds(model_best,test_generator)"
   ]
  },
  {
   "cell_type": "code",
   "execution_count": 12,
   "metadata": {},
   "outputs": [
    {
     "data": {
      "text/html": [
       "<div>\n",
       "<style scoped>\n",
       "    .dataframe tbody tr th:only-of-type {\n",
       "        vertical-align: middle;\n",
       "    }\n",
       "\n",
       "    .dataframe tbody tr th {\n",
       "        vertical-align: top;\n",
       "    }\n",
       "\n",
       "    .dataframe thead th {\n",
       "        text-align: right;\n",
       "    }\n",
       "</style>\n",
       "<table border=\"1\" class=\"dataframe\">\n",
       "  <thead>\n",
       "    <tr style=\"text-align: right;\">\n",
       "      <th></th>\n",
       "      <th>Classes</th>\n",
       "      <th>Training Examples</th>\n",
       "      <th>AUC</th>\n",
       "      <th>Accuracy</th>\n",
       "      <th>Sensitivity</th>\n",
       "      <th>Specificity</th>\n",
       "    </tr>\n",
       "  </thead>\n",
       "  <tbody>\n",
       "    <tr>\n",
       "      <th>0</th>\n",
       "      <td>Bread</td>\n",
       "      <td>625</td>\n",
       "      <td>0.933370</td>\n",
       "      <td>0.891286</td>\n",
       "      <td>0.873333</td>\n",
       "      <td>0.893954</td>\n",
       "    </tr>\n",
       "    <tr>\n",
       "      <th>1</th>\n",
       "      <td>Burger</td>\n",
       "      <td>222</td>\n",
       "      <td>0.862092</td>\n",
       "      <td>0.911993</td>\n",
       "      <td>0.555556</td>\n",
       "      <td>0.929412</td>\n",
       "    </tr>\n",
       "    <tr>\n",
       "      <th>2</th>\n",
       "      <td>Cereal/Cereal bar</td>\n",
       "      <td>41</td>\n",
       "      <td>0.842148</td>\n",
       "      <td>0.950820</td>\n",
       "      <td>0.750000</td>\n",
       "      <td>0.952215</td>\n",
       "    </tr>\n",
       "    <tr>\n",
       "      <th>3</th>\n",
       "      <td>Cheese</td>\n",
       "      <td>597</td>\n",
       "      <td>0.863290</td>\n",
       "      <td>0.846419</td>\n",
       "      <td>0.693333</td>\n",
       "      <td>0.869177</td>\n",
       "    </tr>\n",
       "    <tr>\n",
       "      <th>4</th>\n",
       "      <td>Desserts/Sweet snacks</td>\n",
       "      <td>373</td>\n",
       "      <td>0.822422</td>\n",
       "      <td>0.791199</td>\n",
       "      <td>0.694444</td>\n",
       "      <td>0.797608</td>\n",
       "    </tr>\n",
       "    <tr>\n",
       "      <th>5</th>\n",
       "      <td>Dressing</td>\n",
       "      <td>1989</td>\n",
       "      <td>0.834985</td>\n",
       "      <td>0.746333</td>\n",
       "      <td>0.766595</td>\n",
       "      <td>0.732659</td>\n",
       "    </tr>\n",
       "    <tr>\n",
       "      <th>6</th>\n",
       "      <td>Drink</td>\n",
       "      <td>1851</td>\n",
       "      <td>0.943683</td>\n",
       "      <td>0.894737</td>\n",
       "      <td>0.871046</td>\n",
       "      <td>0.907754</td>\n",
       "    </tr>\n",
       "    <tr>\n",
       "      <th>7</th>\n",
       "      <td>Fried sides</td>\n",
       "      <td>791</td>\n",
       "      <td>0.971703</td>\n",
       "      <td>0.911993</td>\n",
       "      <td>0.922652</td>\n",
       "      <td>0.910020</td>\n",
       "    </tr>\n",
       "    <tr>\n",
       "      <th>8</th>\n",
       "      <td>Fruit</td>\n",
       "      <td>421</td>\n",
       "      <td>0.884825</td>\n",
       "      <td>0.922347</td>\n",
       "      <td>0.670455</td>\n",
       "      <td>0.943044</td>\n",
       "    </tr>\n",
       "    <tr>\n",
       "      <th>9</th>\n",
       "      <td>Meats</td>\n",
       "      <td>1271</td>\n",
       "      <td>0.822533</td>\n",
       "      <td>0.779983</td>\n",
       "      <td>0.684211</td>\n",
       "      <td>0.805921</td>\n",
       "    </tr>\n",
       "    <tr>\n",
       "      <th>10</th>\n",
       "      <td>Pasta</td>\n",
       "      <td>272</td>\n",
       "      <td>0.779639</td>\n",
       "      <td>0.836066</td>\n",
       "      <td>0.560000</td>\n",
       "      <td>0.848512</td>\n",
       "    </tr>\n",
       "    <tr>\n",
       "      <th>11</th>\n",
       "      <td>Pastry</td>\n",
       "      <td>151</td>\n",
       "      <td>0.832804</td>\n",
       "      <td>0.895600</td>\n",
       "      <td>0.521739</td>\n",
       "      <td>0.903169</td>\n",
       "    </tr>\n",
       "    <tr>\n",
       "      <th>12</th>\n",
       "      <td>Pizza</td>\n",
       "      <td>153</td>\n",
       "      <td>0.932639</td>\n",
       "      <td>0.958585</td>\n",
       "      <td>0.818182</td>\n",
       "      <td>0.962700</td>\n",
       "    </tr>\n",
       "    <tr>\n",
       "      <th>13</th>\n",
       "      <td>Rice</td>\n",
       "      <td>587</td>\n",
       "      <td>0.944504</td>\n",
       "      <td>0.857636</td>\n",
       "      <td>0.881356</td>\n",
       "      <td>0.854947</td>\n",
       "    </tr>\n",
       "    <tr>\n",
       "      <th>14</th>\n",
       "      <td>Salad</td>\n",
       "      <td>2807</td>\n",
       "      <td>0.883464</td>\n",
       "      <td>0.791199</td>\n",
       "      <td>0.830428</td>\n",
       "      <td>0.744318</td>\n",
       "    </tr>\n",
       "    <tr>\n",
       "      <th>15</th>\n",
       "      <td>Salty snacks</td>\n",
       "      <td>489</td>\n",
       "      <td>0.961501</td>\n",
       "      <td>0.917170</td>\n",
       "      <td>0.907407</td>\n",
       "      <td>0.918173</td>\n",
       "    </tr>\n",
       "    <tr>\n",
       "      <th>16</th>\n",
       "      <td>Sandwich</td>\n",
       "      <td>1158</td>\n",
       "      <td>0.936521</td>\n",
       "      <td>0.882657</td>\n",
       "      <td>0.829167</td>\n",
       "      <td>0.896627</td>\n",
       "    </tr>\n",
       "    <tr>\n",
       "      <th>17</th>\n",
       "      <td>Soup</td>\n",
       "      <td>618</td>\n",
       "      <td>0.963987</td>\n",
       "      <td>0.941329</td>\n",
       "      <td>0.875000</td>\n",
       "      <td>0.949564</td>\n",
       "    </tr>\n",
       "    <tr>\n",
       "      <th>18</th>\n",
       "      <td>Sushi</td>\n",
       "      <td>100</td>\n",
       "      <td>0.968486</td>\n",
       "      <td>0.957722</td>\n",
       "      <td>0.892857</td>\n",
       "      <td>0.959328</td>\n",
       "    </tr>\n",
       "    <tr>\n",
       "      <th>19</th>\n",
       "      <td>Veggies</td>\n",
       "      <td>1523</td>\n",
       "      <td>0.858331</td>\n",
       "      <td>0.764452</td>\n",
       "      <td>0.803797</td>\n",
       "      <td>0.749703</td>\n",
       "    </tr>\n",
       "    <tr>\n",
       "      <th>20</th>\n",
       "      <td>Wrap</td>\n",
       "      <td>350</td>\n",
       "      <td>0.946057</td>\n",
       "      <td>0.855910</td>\n",
       "      <td>0.915493</td>\n",
       "      <td>0.852022</td>\n",
       "    </tr>\n",
       "    <tr>\n",
       "      <th>21</th>\n",
       "      <td>Yogurt</td>\n",
       "      <td>116</td>\n",
       "      <td>0.731922</td>\n",
       "      <td>0.905091</td>\n",
       "      <td>0.400000</td>\n",
       "      <td>0.916226</td>\n",
       "    </tr>\n",
       "  </tbody>\n",
       "</table>\n",
       "</div>"
      ],
      "text/plain": [
       "                  Classes  Training Examples       AUC  Accuracy  Sensitivity  \\\n",
       "0                   Bread                625  0.933370  0.891286     0.873333   \n",
       "1                  Burger                222  0.862092  0.911993     0.555556   \n",
       "2       Cereal/Cereal bar                 41  0.842148  0.950820     0.750000   \n",
       "3                  Cheese                597  0.863290  0.846419     0.693333   \n",
       "4   Desserts/Sweet snacks                373  0.822422  0.791199     0.694444   \n",
       "5                Dressing               1989  0.834985  0.746333     0.766595   \n",
       "6                   Drink               1851  0.943683  0.894737     0.871046   \n",
       "7             Fried sides                791  0.971703  0.911993     0.922652   \n",
       "8                   Fruit                421  0.884825  0.922347     0.670455   \n",
       "9                   Meats               1271  0.822533  0.779983     0.684211   \n",
       "10                  Pasta                272  0.779639  0.836066     0.560000   \n",
       "11                 Pastry                151  0.832804  0.895600     0.521739   \n",
       "12                  Pizza                153  0.932639  0.958585     0.818182   \n",
       "13                   Rice                587  0.944504  0.857636     0.881356   \n",
       "14                  Salad               2807  0.883464  0.791199     0.830428   \n",
       "15           Salty snacks                489  0.961501  0.917170     0.907407   \n",
       "16               Sandwich               1158  0.936521  0.882657     0.829167   \n",
       "17                   Soup                618  0.963987  0.941329     0.875000   \n",
       "18                  Sushi                100  0.968486  0.957722     0.892857   \n",
       "19                Veggies               1523  0.858331  0.764452     0.803797   \n",
       "20                   Wrap                350  0.946057  0.855910     0.915493   \n",
       "21                 Yogurt                116  0.731922  0.905091     0.400000   \n",
       "\n",
       "    Specificity  \n",
       "0      0.893954  \n",
       "1      0.929412  \n",
       "2      0.952215  \n",
       "3      0.869177  \n",
       "4      0.797608  \n",
       "5      0.732659  \n",
       "6      0.907754  \n",
       "7      0.910020  \n",
       "8      0.943044  \n",
       "9      0.805921  \n",
       "10     0.848512  \n",
       "11     0.903169  \n",
       "12     0.962700  \n",
       "13     0.854947  \n",
       "14     0.744318  \n",
       "15     0.918173  \n",
       "16     0.896627  \n",
       "17     0.949564  \n",
       "18     0.959328  \n",
       "19     0.749703  \n",
       "20     0.852022  \n",
       "21     0.916226  "
      ]
     },
     "execution_count": 12,
     "metadata": {},
     "output_type": "execute_result"
    }
   ],
   "source": [
    "train_labels = train_generator.labels\n",
    "train_labels_flat = np.array([y for x in train_labels for y in x])\n",
    "train_counts = np.bincount(train_labels_flat)\n",
    "\n",
    "accs_val,aucs_val,sens_val,spec_val,rocs_val = per_class_metrics(val_true,val_pred,threshs)\n",
    "accs_test,aucs_test,sens_test,spec_test,rocs_test = per_class_metrics(test_true,test_pred,threshs)\n",
    "\n",
    "coarse_labels = sorted(list(val_generator.class_indices.keys()))\n",
    "\n",
    "metrics_val = pd.DataFrame(\n",
    "    {'Classes': coarse_labels,\n",
    "     'Training Examples': train_counts,\n",
    "     'AUC': aucs_val,\n",
    "     'Accuracy': accs_val,\n",
    "     'Sensitivity':sens_val,\n",
    "     'Specificity': spec_val\n",
    "    })\n",
    "\n",
    "metrics_val = metrics_val[['Classes','Training Examples', 'AUC', 'Accuracy', 'Sensitivity', 'Specificity']]\n",
    "\n",
    "metrics_test = pd.DataFrame(\n",
    "    {'Classes': coarse_labels,\n",
    "     'Training Examples': train_counts,\n",
    "     'AUC': aucs_test,\n",
    "     'Accuracy': accs_test,\n",
    "     'Sensitivity': sens_test,\n",
    "     'Specificity': spec_test, \n",
    "    })\n",
    "metrics_test = metrics_test[['Classes','Training Examples', 'AUC', 'Accuracy', 'Sensitivity', 'Specificity']]\n",
    "\n",
    "metrics_val.to_csv(\"metrics_val.csv\",index=False)\n",
    "metrics_test.to_csv(\"metrics_test.csv\",index=False)\n",
    "\n",
    "metrics_test"
   ]
  },
  {
   "cell_type": "code",
   "execution_count": 13,
   "metadata": {},
   "outputs": [
    {
     "data": {
      "text/plain": [
       "Text(0, 0.5, 'Sensitivity on the test set')"
      ]
     },
     "execution_count": 13,
     "metadata": {},
     "output_type": "execute_result"
    },
    {
     "data": {
      "image/png": "[encoded data removed]",
      "text/plain": [
       "<Figure size 432x288 with 1 Axes>"
      ]
     },
     "metadata": {
      "needs_background": "light"
     },
     "output_type": "display_data"
    }
   ],
   "source": [
    "import matplotlib.pyplot as plt\n",
    "\n",
    "plt.plot(train_counts,sens_test,'kx')\n",
    "plt.xlabel(\"Number of training examples\")\n",
    "plt.ylabel(\"Sensitivity on the test set\")"
   ]
  },
  {
   "cell_type": "code",
   "execution_count": 15,
   "metadata": {},
   "outputs": [
    {
     "data": {
      "image/png": "[encoded data removed]",
      "text/plain": [
       "<Figure size 504x360 with 1 Axes>"
      ]
     },
     "metadata": {
      "needs_background": "light"
     },
     "output_type": "display_data"
    },
    {
     "data": {
      "image/png": "[encoded data removed]",
      "text/plain": [
       "<Figure size 504x360 with 1 Axes>"
      ]
     },
     "metadata": {
      "needs_background": "light"
     },
     "output_type": "display_data"
    }
   ],
   "source": [
    "# plot example test roc curve\n",
    "\n",
    "plot_legend = [coarse_labels[i]+', AUC: ' + '{:.2f}'.format(aucs_test[i]) for i in range(22)]\n",
    "plt.figure(figsize=(7,5))\n",
    "for cat in range(0,12):\n",
    "    fpr = rocs_test[cat][0]\n",
    "    tpr = rocs_test[cat][1]\n",
    "    plt.plot(fpr,tpr)\n",
    "plt.legend(plot_legend[0:12],loc='lower right')\n",
    "plt.xlabel('False Positive Rate')\n",
    "plt.ylabel('True Positive Rate')\n",
    "plt.savefig('ROC1.png')\n",
    "\n",
    "plt.figure(figsize=(7,5))\n",
    "for cat in range(12,22):\n",
    "    fpr = rocs_test[cat][0]\n",
    "    tpr = rocs_test[cat][1]\n",
    "    plt.plot(fpr,tpr)\n",
    "plt.legend(plot_legend[12:22],loc='lower right')\n",
    "plt.xlabel('False Positive Rate')\n",
    "plt.ylabel('True Positive Rate')\n",
    "plt.savefig('ROC2.png')"
   ]
  },
  {
   "cell_type": "code",
   "execution_count": null,
   "metadata": {},
   "outputs": [],
   "source": [
    "val_pred_bool = val_pred>threshs\n",
    "test_pred_bool = test_pred>threshs\n",
    "\n",
    "def get_predictions_df(generator,pred_bool):\n",
    "    generator.reset()\n",
    "    predictions=[]\n",
    "    labels = generator.class_indices\n",
    "    labels = dict((v,k) for k,v in labels.items())\n",
    "    for row in pred_bool:\n",
    "        l=[]\n",
    "        for index,cls in enumerate(row):\n",
    "            if cls:\n",
    "                l.append(labels[index])\n",
    "        predictions.append(\",\".join(l))\n",
    "\n",
    "    filenames= generator.filenames\n",
    "    results=pd.DataFrame({\"Filename\":filenames,\n",
    "                          \"Predictions\":predictions})\n",
    "    return results\n",
    "\n",
    "results_val = get_predictions_df(val_generator,val_pred_bool)\n",
    "results_test = get_predictions_df(test_generator,test_pred_bool)"
   ]
  },
  {
   "cell_type": "code",
   "execution_count": null,
   "metadata": {},
   "outputs": [],
   "source": [
    "def display_images_and_predictions(results,im_directory,N=100):\n",
    "\n",
    "    from IPython.display import Image,display\n",
    "    for index,row in results.iloc[:100].iterrows():\n",
    "        prediction = row[\"Predictions\"]\n",
    "        display(Image(filename=os.path.join(im_directory,row[\"Filename\"])))\n",
    "        print(prediction)\n",
    "\n",
    "# display_images_and_predictions(results_val,im_directory,N=50)\n",
    "\n",
    "display_images_and_predictions(results_test,im_directory,N=50)"
   ]
  }
 ],
 "metadata": {
  "kernelspec": {
   "display_name": "Python 3",
   "language": "python",
   "name": "python3"
  },
  "language_info": {
   "codemirror_mode": {
    "name": "ipython",
    "version": 3
   },
   "file_extension": ".py",
   "mimetype": "text/x-python",
   "name": "python",
   "nbconvert_exporter": "python",
   "pygments_lexer": "ipython3",
   "version": "3.5.2"
  }
 },
 "nbformat": 4,
 "nbformat_minor": 2
}
